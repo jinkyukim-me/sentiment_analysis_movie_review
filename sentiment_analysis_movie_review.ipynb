{
 "cells": [
  {
   "cell_type": "code",
   "execution_count": 1,
   "metadata": {
    "ExecuteTime": {
     "end_time": "2019-10-02T16:12:41.532027Z",
     "start_time": "2019-10-02T16:12:39.958000Z"
    }
   },
   "outputs": [],
   "source": [
    "# importing packages\n",
    "import torch\n",
    "import torch.nn as nn\n",
    "import torch.nn.functional as F \n",
    "import torch.optim as optim\n",
    "from torchtext.data import Field, TabularDataset, Iterator\n",
    "from torchtext import data\n",
    "from torchtext import datasets\n",
    "from eunjeon import Mecab\n",
    "from model_train_test import main"
   ]
  },
  {
   "cell_type": "code",
   "execution_count": 2,
   "metadata": {
    "ExecuteTime": {
     "end_time": "2019-10-02T16:12:41.542758Z",
     "start_time": "2019-10-02T16:12:41.534779Z"
    }
   },
   "outputs": [],
   "source": [
    "# using Mecab as Tokenizer\n",
    "tokenizer = Mecab() "
   ]
  },
  {
   "cell_type": "code",
   "execution_count": 3,
   "metadata": {
    "ExecuteTime": {
     "end_time": "2019-10-02T16:12:41.553728Z",
     "start_time": "2019-10-02T16:12:41.545751Z"
    }
   },
   "outputs": [],
   "source": [
    "# defining the Field\n",
    "TEXT = Field(sequential=True,\n",
    "             use_vocab=True,\n",
    "             tokenize=tokenizer.morphs,  \n",
    "             lower=True, \n",
    "             batch_first=True)  \n",
    "LABEL = Field(sequential=False,  \n",
    "              use_vocab=False,   \n",
    "              preprocessing = lambda x: int(x),\n",
    "              batch_first=True, \n",
    "              is_target=True)\n",
    "ID = Field(sequential=False,  \n",
    "           use_vocab=False,   \n",
    "           is_target=False)"
   ]
  },
  {
   "cell_type": "code",
   "execution_count": 4,
   "metadata": {
    "ExecuteTime": {
     "end_time": "2019-10-02T16:13:07.533805Z",
     "start_time": "2019-10-02T16:12:41.556720Z"
    }
   },
   "outputs": [],
   "source": [
    "# divide train_data and test_data by using TabularDataset.splits function\n",
    "train_data, test_data = TabularDataset.splits(\n",
    "    path='./data', format='tsv', \n",
    "    train=\"ratings_train.txt\",\n",
    "    test=\"ratings_test.txt\",\n",
    "    fields=[('id', ID), ('text', TEXT), ('label', LABEL)],\n",
    "    skip_header=True)"
   ]
  },
  {
   "cell_type": "code",
   "execution_count": 5,
   "metadata": {
    "ExecuteTime": {
     "end_time": "2019-10-02T16:13:08.920991Z",
     "start_time": "2019-10-02T16:13:07.536695Z"
    }
   },
   "outputs": [
    {
     "name": "stdout",
     "output_type": "stream",
     "text": [
      "Train Data: 150000 / Test Data: 50000\n",
      "Vocab Size: 29848\n"
     ]
    }
   ],
   "source": [
    "# making Vocabulary\n",
    "TEXT.build_vocab(train_data, min_freq=2)\n",
    "# checking the number of train data and test data / Vocabulary size\n",
    "print(\"Train Data: {} / Test Data: {}\".format(len(train_data), len(test_data)))\n",
    "print(\"Vocab Size: {}\".format(len(TEXT.vocab)))"
   ]
  },
  {
   "cell_type": "code",
   "execution_count": 6,
   "metadata": {
    "ExecuteTime": {
     "end_time": "2019-10-02T16:13:09.468527Z",
     "start_time": "2019-10-02T16:13:08.926972Z"
    }
   },
   "outputs": [],
   "source": [
    "# setting environment variables\n",
    "BATCH = 64  # mini-batch\n",
    "DEVICE = 'cuda' if torch.cuda.is_available() else 'cpu'  # device\n",
    "STEP = 10  # total repeat step"
   ]
  },
  {
   "cell_type": "code",
   "execution_count": 7,
   "metadata": {
    "ExecuteTime": {
     "end_time": "2019-10-02T16:13:09.480525Z",
     "start_time": "2019-10-02T16:13:09.472514Z"
    }
   },
   "outputs": [],
   "source": [
    "# defing data loader\n",
    "train_loader = Iterator(dataset=train_data, batch_size=BATCH, device=DEVICE)\n",
    "test_loader = Iterator(dataset=test_data, batch_size=BATCH, device=DEVICE)"
   ]
  },
  {
   "cell_type": "code",
   "execution_count": 8,
   "metadata": {
    "ExecuteTime": {
     "end_time": "2019-10-02T16:13:09.502434Z",
     "start_time": "2019-10-02T16:13:09.484511Z"
    }
   },
   "outputs": [],
   "source": [
    "# makeing model by using LSTM\n",
    "class SentimentCls(nn.Module):\n",
    "    def __init__(self, vocab_size, embed_size, hidden_size, output_size,\n",
    "                 num_layers=3, batch_first=True, bidirec=True, dropout=0.5):\n",
    "        super(SentimentCls, self).__init__()\n",
    "        self.hidden_size = hidden_size\n",
    "        self.n_layers = num_layers\n",
    "        self.n_direct = 2 if bidirec else 1\n",
    "        self.embedding_layer = nn.Embedding(vocab_size, embed_size)\n",
    "        self.rnn_layer = nn.LSTM(input_size=embed_size,\n",
    "                                 hidden_size=hidden_size,\n",
    "                                 num_layers=num_layers,\n",
    "                                 batch_first=batch_first,\n",
    "                                 bidirectional=bidirec,\n",
    "                                 dropout=0.5)\n",
    "        self.dropout = nn.Dropout(dropout)\n",
    "        self.linear = nn.Linear(self.n_direct*hidden_size, output_size)\n",
    "        \n",
    "\n",
    "    def forward(self, x):\n",
    "        embeded = self.dropout(self.embedding_layer(x))\n",
    "        hidden, cell = self.init_hiddens(x.size(0), self.hidden_size, device=x.device)\n",
    "        output, (hidden, cell) = self.rnn_layer(embeded, (hidden, cell))\n",
    "        last_hidden = torch.cat([h for h in hidden[-self.n_direct:]], dim=1)\n",
    "        scores = self.linear(last_hidden)\n",
    "        return scores.view(-1)\n",
    "    \n",
    "    def init_hiddens(self, batch_size, hidden_size, device):\n",
    "        hidden = torch.zeros(self.n_direct*self.n_layers, batch_size, hidden_size)\n",
    "        cell = torch.zeros(self.n_direct*self.n_layers, batch_size, hidden_size)\n",
    "        return hidden.to(device), cell.to(device)"
   ]
  },
  {
   "cell_type": "code",
   "execution_count": 9,
   "metadata": {
    "ExecuteTime": {
     "end_time": "2019-10-02T16:13:13.922605Z",
     "start_time": "2019-10-02T16:13:09.505427Z"
    }
   },
   "outputs": [
    {
     "name": "stdout",
     "output_type": "stream",
     "text": [
      "Total number of parameters: 7765505\n"
     ]
    }
   ],
   "source": [
    "# setting arguments for model\n",
    "vocab_size = len(TEXT.vocab)  # the size of vocabulary\n",
    "embed_size = 128  # the size of embedding\n",
    "hidden_size = 256  # the size of hidden layer\n",
    "output_size = 1  # the size of output layer\n",
    "num_layers = 3  # the number of RNN layer\n",
    "batch_first = True  # if RNN's frist dim of input is the size of minibatch\n",
    "bidirec = True  # BERT\n",
    "dropdout = 0.5\n",
    "# model\n",
    "model = SentimentCls(vocab_size, embed_size, hidden_size, output_size,\n",
    "                     num_layers, batch_first, bidirec, dropdout).to(DEVICE)\n",
    "# checking total number of parameters\n",
    "num_params = 0\n",
    "for params in model.parameters():\n",
    "    num_params += params.view(-1).size(0)\n",
    "print(\"Total number of parameters: {}\".format(num_params))\n",
    "\n",
    "# loss funtion and optimizer\n",
    "loss_function = nn.BCEWithLogitsLoss()\n",
    "optimizer = optim.Adam(model.parameters(), weight_decay=5e-5)"
   ]
  },
  {
   "cell_type": "code",
   "execution_count": 10,
   "metadata": {
    "ExecuteTime": {
     "end_time": "2019-10-02T17:20:39.305000Z",
     "start_time": "2019-10-02T16:13:13.926594Z"
    },
    "scrolled": false
   },
   "outputs": [
    {
     "name": "stdout",
     "output_type": "stream",
     "text": [
      "Train Step: 1 (00.00%)  \tLoss: 0.6926\n",
      "Train Step: 1 (10.92%)  \tLoss: 0.6191\n",
      "Train Step: 1 (21.85%)  \tLoss: 0.5241\n",
      "Train Step: 1 (32.77%)  \tLoss: 0.5053\n",
      "Train Step: 1 (43.69%)  \tLoss: 0.4772\n",
      "Train Step: 1 (54.61%)  \tLoss: 0.4647\n",
      "Train Step: 1 (65.54%)  \tLoss: 0.3139\n",
      "Train Step: 1 (76.46%)  \tLoss: 0.4887\n",
      "Train Step: 1 (87.38%)  \tLoss: 0.4669\n",
      "Train Step: 1 (98.30%)  \tLoss: 0.2820\n",
      "Test set: Average loss: 0.3695, Accuracy: 41716/50000 (83.43%)\n",
      "\n",
      "Train Step: 2 (00.00%)  \tLoss: 0.3149\n",
      "Train Step: 2 (10.92%)  \tLoss: 0.3585\n",
      "Train Step: 2 (21.85%)  \tLoss: 0.3707\n",
      "Train Step: 2 (32.77%)  \tLoss: 0.4766\n",
      "Train Step: 2 (43.69%)  \tLoss: 0.2181\n",
      "Train Step: 2 (54.61%)  \tLoss: 0.3758\n",
      "Train Step: 2 (65.54%)  \tLoss: 0.3796\n",
      "Train Step: 2 (76.46%)  \tLoss: 0.3613\n",
      "Train Step: 2 (87.38%)  \tLoss: 0.3551\n",
      "Train Step: 2 (98.30%)  \tLoss: 0.3710\n",
      "Test set: Average loss: 0.3306, Accuracy: 42759/50000 (85.52%)\n",
      "discard previous state, best model state saved!\n",
      "\n",
      "Train Step: 3 (00.00%)  \tLoss: 0.4109\n",
      "Train Step: 3 (10.92%)  \tLoss: 0.3683\n",
      "Train Step: 3 (21.85%)  \tLoss: 0.2543\n",
      "Train Step: 3 (32.77%)  \tLoss: 0.2730\n",
      "Train Step: 3 (43.69%)  \tLoss: 0.3132\n",
      "Train Step: 3 (54.61%)  \tLoss: 0.3351\n",
      "Train Step: 3 (65.54%)  \tLoss: 0.3351\n",
      "Train Step: 3 (76.46%)  \tLoss: 0.4574\n",
      "Train Step: 3 (87.38%)  \tLoss: 0.2719\n",
      "Train Step: 3 (98.30%)  \tLoss: 0.3966\n",
      "Test set: Average loss: 0.3143, Accuracy: 43151/50000 (86.30%)\n",
      "discard previous state, best model state saved!\n",
      "\n",
      "Train Step: 4 (00.00%)  \tLoss: 0.2309\n",
      "Train Step: 4 (10.92%)  \tLoss: 0.3237\n",
      "Train Step: 4 (21.85%)  \tLoss: 0.2996\n",
      "Train Step: 4 (32.77%)  \tLoss: 0.3636\n",
      "Train Step: 4 (43.69%)  \tLoss: 0.3003\n",
      "Train Step: 4 (54.61%)  \tLoss: 0.2844\n",
      "Train Step: 4 (65.54%)  \tLoss: 0.2160\n",
      "Train Step: 4 (76.46%)  \tLoss: 0.3859\n",
      "Train Step: 4 (87.38%)  \tLoss: 0.3493\n",
      "Train Step: 4 (98.30%)  \tLoss: 0.1899\n",
      "Test set: Average loss: 0.3062, Accuracy: 43479/50000 (86.96%)\n",
      "discard previous state, best model state saved!\n",
      "\n",
      "Train Step: 5 (00.00%)  \tLoss: 0.3454\n",
      "Train Step: 5 (10.92%)  \tLoss: 0.3438\n",
      "Train Step: 5 (21.85%)  \tLoss: 0.2437\n",
      "Train Step: 5 (32.77%)  \tLoss: 0.3164\n",
      "Train Step: 5 (43.69%)  \tLoss: 0.2421\n",
      "Train Step: 5 (54.61%)  \tLoss: 0.2073\n",
      "Train Step: 5 (65.54%)  \tLoss: 0.4447\n",
      "Train Step: 5 (76.46%)  \tLoss: 0.2327\n",
      "Train Step: 5 (87.38%)  \tLoss: 0.1829\n",
      "Train Step: 5 (98.30%)  \tLoss: 0.3811\n",
      "Test set: Average loss: 0.2943, Accuracy: 43685/50000 (87.37%)\n",
      "discard previous state, best model state saved!\n",
      "\n",
      "Train Step: 6 (00.00%)  \tLoss: 0.1851\n",
      "Train Step: 6 (10.92%)  \tLoss: 0.2147\n",
      "Train Step: 6 (21.85%)  \tLoss: 0.3134\n",
      "Train Step: 6 (32.77%)  \tLoss: 0.2038\n",
      "Train Step: 6 (43.69%)  \tLoss: 0.2717\n",
      "Train Step: 6 (54.61%)  \tLoss: 0.3171\n",
      "Train Step: 6 (65.54%)  \tLoss: 0.3234\n",
      "Train Step: 6 (76.46%)  \tLoss: 0.4234\n",
      "Train Step: 6 (87.38%)  \tLoss: 0.2935\n",
      "Train Step: 6 (98.30%)  \tLoss: 0.1829\n",
      "Test set: Average loss: 0.2951, Accuracy: 43662/50000 (87.32%)\n",
      "\n",
      "Train Step: 7 (00.00%)  \tLoss: 0.1823\n",
      "Train Step: 7 (10.92%)  \tLoss: 0.1453\n",
      "Train Step: 7 (21.85%)  \tLoss: 0.2589\n",
      "Train Step: 7 (32.77%)  \tLoss: 0.3123\n",
      "Train Step: 7 (43.69%)  \tLoss: 0.4411\n",
      "Train Step: 7 (54.61%)  \tLoss: 0.3329\n",
      "Train Step: 7 (65.54%)  \tLoss: 0.3560\n",
      "Train Step: 7 (76.46%)  \tLoss: 0.3371\n",
      "Train Step: 7 (87.38%)  \tLoss: 0.2429\n",
      "Train Step: 7 (98.30%)  \tLoss: 0.2459\n",
      "Test set: Average loss: 0.2914, Accuracy: 43779/50000 (87.56%)\n",
      "discard previous state, best model state saved!\n",
      "\n",
      "Train Step: 8 (00.00%)  \tLoss: 0.2773\n",
      "Train Step: 8 (10.92%)  \tLoss: 0.1468\n",
      "Train Step: 8 (21.85%)  \tLoss: 0.3020\n",
      "Train Step: 8 (32.77%)  \tLoss: 0.3061\n",
      "Train Step: 8 (43.69%)  \tLoss: 0.2749\n",
      "Train Step: 8 (54.61%)  \tLoss: 0.2529\n",
      "Train Step: 8 (65.54%)  \tLoss: 0.2031\n",
      "Train Step: 8 (76.46%)  \tLoss: 0.2211\n",
      "Train Step: 8 (87.38%)  \tLoss: 0.2450\n",
      "Train Step: 8 (98.30%)  \tLoss: 0.2800\n",
      "Test set: Average loss: 0.2998, Accuracy: 43794/50000 (87.59%)\n",
      "discard previous state, best model state saved!\n",
      "\n",
      "Train Step: 9 (00.00%)  \tLoss: 0.1931\n",
      "Train Step: 9 (10.92%)  \tLoss: 0.3733\n",
      "Train Step: 9 (21.85%)  \tLoss: 0.1300\n",
      "Train Step: 9 (32.77%)  \tLoss: 0.2507\n",
      "Train Step: 9 (43.69%)  \tLoss: 0.1905\n",
      "Train Step: 9 (54.61%)  \tLoss: 0.2122\n",
      "Train Step: 9 (65.54%)  \tLoss: 0.2032\n",
      "Train Step: 9 (76.46%)  \tLoss: 0.3797\n",
      "Train Step: 9 (87.38%)  \tLoss: 0.3527\n",
      "Train Step: 9 (98.30%)  \tLoss: 0.2332\n",
      "Test set: Average loss: 0.2892, Accuracy: 43770/50000 (87.54%)\n",
      "\n",
      "Train Step: 10 (00.00%)  \tLoss: 0.1969\n",
      "Train Step: 10 (10.92%)  \tLoss: 0.1313\n",
      "Train Step: 10 (21.85%)  \tLoss: 0.1640\n",
      "Train Step: 10 (32.77%)  \tLoss: 0.2884\n",
      "Train Step: 10 (43.69%)  \tLoss: 0.2039\n",
      "Train Step: 10 (54.61%)  \tLoss: 0.2074\n",
      "Train Step: 10 (65.54%)  \tLoss: 0.3460\n",
      "Train Step: 10 (76.46%)  \tLoss: 0.3302\n",
      "Train Step: 10 (87.38%)  \tLoss: 0.2645\n",
      "Train Step: 10 (98.30%)  \tLoss: 0.2814\n",
      "Test set: Average loss: 0.3016, Accuracy: 43789/50000 (87.58%)\n",
      "\n"
     ]
    }
   ],
   "source": [
    "# train\n",
    "main(model=model,\n",
    "     train_loader=train_loader,\n",
    "     test_loader=test_loader,\n",
    "     loss_func=loss_function, \n",
    "     optimizer=optimizer, \n",
    "     n_step=STEP,\n",
    "     save_path=\"./movie-review-model.pt\",\n",
    "     print_step=256)"
   ]
  },
  {
   "cell_type": "code",
   "execution_count": null,
   "metadata": {},
   "outputs": [],
   "source": []
  }
 ],
 "metadata": {
  "hide_input": false,
  "kernelspec": {
   "display_name": "Python 3",
   "language": "python",
   "name": "python3"
  },
  "language_info": {
   "codemirror_mode": {
    "name": "ipython",
    "version": 3
   },
   "file_extension": ".py",
   "mimetype": "text/x-python",
   "name": "python",
   "nbconvert_exporter": "python",
   "pygments_lexer": "ipython3",
   "version": "3.6.9"
  },
  "toc": {
   "base_numbering": 1,
   "nav_menu": {},
   "number_sections": true,
   "sideBar": true,
   "skip_h1_title": false,
   "title_cell": "Table of Contents",
   "title_sidebar": "Contents",
   "toc_cell": false,
   "toc_position": {},
   "toc_section_display": true,
   "toc_window_display": false
  },
  "varInspector": {
   "cols": {
    "lenName": 16,
    "lenType": 16,
    "lenVar": 40
   },
   "kernels_config": {
    "python": {
     "delete_cmd_postfix": "",
     "delete_cmd_prefix": "del ",
     "library": "var_list.py",
     "varRefreshCmd": "print(var_dic_list())"
    },
    "r": {
     "delete_cmd_postfix": ") ",
     "delete_cmd_prefix": "rm(",
     "library": "var_list.r",
     "varRefreshCmd": "cat(var_dic_list()) "
    }
   },
   "types_to_exclude": [
    "module",
    "function",
    "builtin_function_or_method",
    "instance",
    "_Feature"
   ],
   "window_display": false
  }
 },
 "nbformat": 4,
 "nbformat_minor": 2
}
